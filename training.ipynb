{
 "cells": [
  {
   "cell_type": "markdown",
   "id": "33c28a6e",
   "metadata": {},
   "source": [
    "# 🍠 Potato Disease Classifier - Model Training\n",
    "\n",
    "這份 Notebook 負責從資料切分到訓練模型，並產生模型權重 (best.pt)"
   ]
  },
  {
   "cell_type": "code",
   "execution_count": null,
   "id": "ada12279",
   "metadata": {},
   "outputs": [],
   "source": [
    "# 安裝必要套件\n",
    "!pip install -q ultralytics"
   ]
  },
  {
   "cell_type": "code",
   "execution_count": null,
   "id": "d8210237",
   "metadata": {},
   "outputs": [],
   "source": [
    "from google.colab import drive\n",
    "drive.mount('/content/drive')"
   ]
  },
  {
   "cell_type": "code",
   "execution_count": null,
   "id": "47acca9e",
   "metadata": {},
   "outputs": [],
   "source": [
    "# 資料切分\n",
    "import pathlib, random, shutil\n",
    "\n",
    "RAW_PATH = pathlib.Path('/content/drive/MyDrive/training')\n",
    "DST_PATH = pathlib.Path('/content/datasets/potato')\n",
    "random.seed(42)\n",
    "\n",
    "for cls_dir in RAW_PATH.glob('Potato_*'):\n",
    "    imgs = list(cls_dir.glob('*'))\n",
    "    if len(imgs) == 0:\n",
    "        print(f'[WARN] {cls_dir} is empty!')\n",
    "        continue\n",
    "    random.shuffle(imgs)\n",
    "    n = len(imgs)\n",
    "    splits = {'train': imgs[:int(0.8*n)],\n",
    "              'val'  : imgs[int(0.8*n):int(0.9*n)],\n",
    "              'test' : imgs[int(0.9*n):]}\n",
    "    for split, files in splits.items():\n",
    "        out_dir = DST_PATH / split / cls_dir.name\n",
    "        out_dir.mkdir(parents=True, exist_ok=True)\n",
    "        for f in files:\n",
    "            shutil.copy(f, out_dir)\n",
    "print('✅ Dataset prepared at', DST_PATH)"
   ]
  },
  {
   "cell_type": "code",
   "execution_count": null,
   "id": "2248a015",
   "metadata": {},
   "outputs": [],
   "source": [
    "# 建立 potato.yaml\n",
    "yaml_text = \"\"\"\n",
    "path: /content/datasets/potato\n",
    "train: train\n",
    "val: val\n",
    "test: test\n",
    "names:\n",
    "  0: Early_Blight\n",
    "  1: Late_Blight\n",
    "  2: Healthy\n",
    "\"\"\"\n",
    "with open('/content/datasets/potato.yaml', 'w') as f:\n",
    "    f.write(yaml_text)\n",
    "print(\"✅ YAML saved\")"
   ]
  },
  {
   "cell_type": "code",
   "execution_count": null,
   "id": "02d861bf",
   "metadata": {},
   "outputs": [],
   "source": [
    "# 訓練模型\n",
    "from ultralytics import YOLO\n",
    "\n",
    "model = YOLO('yolov8n-cls.pt')\n",
    "results = model.train(\n",
    "    data='/content/datasets/potato',\n",
    "    epochs=50,\n",
    "    imgsz=224,\n",
    "    batch=32,\n",
    "    lr0=1e-3,\n",
    "    patience=10,\n",
    "    project='plant_cls',\n",
    "    name='potato_yolov8n_v2'\n",
    ")"
   ]
  },
  {
   "cell_type": "code",
   "execution_count": null,
   "id": "0868212e",
   "metadata": {},
   "outputs": [],
   "source": [
    "# 評估並產生混淆矩陣\n",
    "metrics = model.val(save_json=True, plots=True)\n",
    "print(f\"Top-1 Accuracy : {metrics.top1:.4f}\")"
   ]
  },
  {
   "cell_type": "code",
   "execution_count": null,
   "id": "6d5ae3d1",
   "metadata": {},
   "outputs": [],
   "source": [
    "# 計算每類 Precision / Recall / F1\n",
    "import numpy as np, pandas as pd\n",
    "\n",
    "cm = metrics.confusion_matrix.matrix\n",
    "tp = np.diag(cm)\n",
    "precision = tp / cm.sum(axis=0)\n",
    "recall = tp / cm.sum(axis=1)\n",
    "f1 = 2 * precision * recall / (precision + recall + 1e-9)\n",
    "\n",
    "labels = ['Early_Blight', 'Late_Blight', 'Healthy']\n",
    "df = pd.DataFrame({'Precision': precision.round(3), 'Recall': recall.round(3), 'F1-Score': f1.round(3)}, index=labels)\n",
    "df.to_csv('/content/classify_metrics.csv')\n",
    "df"
   ]
  }
 ],
 "metadata": {},
 "nbformat": 4,
 "nbformat_minor": 5
}
