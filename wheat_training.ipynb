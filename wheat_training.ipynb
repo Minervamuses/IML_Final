{
 "cells": [
  {
   "cell_type": "markdown",
   "id": "f24b4180",
   "metadata": {},
   "source": [
    "# 🌾 Wheat Disease Classifier - Model Training\n",
    "\n",
    "此 Notebook 負責從資料切分到訓練模型，並產生模型權重 (best.pt)。"
   ]
  },
  {
   "cell_type": "code",
   "execution_count": null,
   "id": "f5eaead9",
   "metadata": {},
   "outputs": [],
   "source": [
    "# 安裝必要套件\n",
    "!pip install -q ultralytics"
   ]
  },
  {
   "cell_type": "code",
   "execution_count": null,
   "id": "7b981257",
   "metadata": {},
   "outputs": [],
   "source": [
    "from google.colab import drive\n",
    "drive.mount('/content/drive')"
   ]
  },
  {
   "cell_type": "code",
   "execution_count": null,
   "id": "0386d7c3",
   "metadata": {},
   "outputs": [],
   "source": [
    "# 資料切分\n",
    "import pathlib, random, shutil\n",
    "\n",
    "RAW_PATH = pathlib.Path('/content/drive/MyDrive/training')  # 請確認你的 Wheat 資料集路徑\n",
    "DST_PATH = pathlib.Path('/content/datasets/wheat')\n",
    "random.seed(42)\n",
    "\n",
    "for cls_dir in RAW_PATH.glob('Wheat_*'):\n",
    "    imgs = list(cls_dir.glob('*'))\n",
    "    if len(imgs) == 0:\n",
    "        print(f'[WARN] {cls_dir} is empty!')\n",
    "        continue\n",
    "    random.shuffle(imgs)\n",
    "    n = len(imgs)\n",
    "    splits = {'train': imgs[:int(0.8*n)],\n",
    "              'val'  : imgs[int(0.8*n):int(0.9*n)],\n",
    "              'test' : imgs[int(0.9*n):]}\n",
    "    for split, files in splits.items():\n",
    "        out_dir = DST_PATH / split / cls_dir.name\n",
    "        out_dir.mkdir(parents=True, exist_ok=True)\n",
    "        for f in files:\n",
    "            shutil.copy(f, out_dir)\n",
    "print('✅ Dataset prepared at', DST_PATH)"
   ]
  },
  {
   "cell_type": "code",
   "execution_count": null,
   "id": "c9a5b0c4",
   "metadata": {},
   "outputs": [],
   "source": [
    "# 建立 wheat.yaml\n",
    "yaml_text = \"\"\"\n",
    "path: /content/datasets/wheat\n",
    "train: train\n",
    "val: val\n",
    "test: test\n",
    "names:\n",
    "  0: Brown_Rust\n",
    "  1: Healthy\n",
    "  2: Yellow_Rust\n",
    "\"\"\"\n",
    "with open('/content/datasets/wheat.yaml', 'w') as f:\n",
    "    f.write(yaml_text)\n",
    "print(\"✅ YAML saved at /content/datasets/wheat.yaml\")"
   ]
  },
  {
   "cell_type": "code",
   "execution_count": null,
   "id": "e0d6cc9f",
   "metadata": {},
   "outputs": [],
   "source": [
    "# 訓練模型\n",
    "from ultralytics import YOLO\n",
    "\n",
    "model = YOLO('yolov8s-cls.pt')  # 可選 yolov8m-cls.pt, yolov8l-cls.pt\n",
    "\n",
    "results = model.train(\n",
    "    data='/content/datasets/wheat',\n",
    "    epochs=50,\n",
    "    imgsz=224,\n",
    "    batch=32,\n",
    "    lr0=1e-3,\n",
    "    patience=0,\n",
    "    augment=True,\n",
    "    project='plant_cls',\n",
    "    name='wheat_yolov8s'\n",
    ")"
   ]
  },
  {
   "cell_type": "code",
   "execution_count": null,
   "id": "0ecdba78",
   "metadata": {},
   "outputs": [],
   "source": [
    "# 評估並產生混淆矩陣\n",
    "metrics = model.val(save_json=True, plots=True)\n",
    "print(f\"Top-1 Accuracy : {metrics.top1:.4f}\")"
   ]
  },
  {
   "cell_type": "code",
   "execution_count": null,
   "id": "ca931cd5",
   "metadata": {},
   "outputs": [],
   "source": [
    "# 計算每類 Precision / Recall / F1\n",
    "import numpy as np, pandas as pd\n",
    "\n",
    "cm = metrics.confusion_matrix.matrix\n",
    "tp = np.diag(cm)\n",
    "precision = tp / cm.sum(axis=0)\n",
    "recall = tp / cm.sum(axis=1)\n",
    "f1 = 2 * precision * recall / (precision + recall + 1e-9)\n",
    "\n",
    "labels = ['Brown_Rust', 'Healthy', 'Yellow_Rust']\n",
    "df = pd.DataFrame({'Precision': precision.round(3), 'Recall': recall.round(3), 'F1-Score': f1.round(3)}, index=labels)\n",
    "df.to_csv('/content/classify_metrics.csv')\n",
    "df"
   ]
  }
 ],
 "metadata": {},
 "nbformat": 4,
 "nbformat_minor": 5
}
